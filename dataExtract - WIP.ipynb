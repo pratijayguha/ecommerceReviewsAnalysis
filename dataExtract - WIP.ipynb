{
 "cells": [
  {
   "cell_type": "code",
   "execution_count": 1,
   "metadata": {},
   "outputs": [],
   "source": [
    "import time\n",
    "import csv\n",
    "from csv import writer\n",
    "from bs4 import BeautifulSoup\n",
    "from selenium import webdriver\n",
    "import os\n",
    "from datetime import datetime"
   ]
  },
  {
   "cell_type": "code",
   "execution_count": 2,
   "metadata": {},
   "outputs": [],
   "source": [
    "URL = 'https://athleticgreens.com/reviews/en'\n",
    "CHROME_BIN_LOCATION = \"C:\\\\Program Files\\\\Google\\\\Chrome\\\\Application\\\\chrome.exe\"\n",
    "CHROME_DRIVER_LOCATION = 'resources\\\\chromedriver.exe'\n",
    "REVIEWS_SCROLL_HEIGHT = 0.5\n",
    "DATA_FILE_FOLDER = 'data'\n",
    "MAX_REVIEWS = 6000\n",
    "\n",
    "RESOURCE_LOCATION = os.getcwd()  + '\\\\resources'\n",
    "DATA_FILE_NAME = 'data_{}.csv'.format(datetime.now().strftime('%Y-%m-%d--%H-%M-%S'))\n",
    "DATA_FILE_LOCATION = DATA_FILE_FOLDER + '\\\\' + DATA_FILE_NAME"
   ]
  },
  {
   "cell_type": "code",
   "execution_count": 3,
   "metadata": {},
   "outputs": [],
   "source": [
    "if(RESOURCE_LOCATION not in os.environ[\"PATH\"]):\n",
    "    os.environ[\"PATH\"] += os.pathsep + RESOURCE_LOCATION"
   ]
  },
  {
   "cell_type": "code",
   "execution_count": 4,
   "metadata": {},
   "outputs": [
    {
     "name": "stderr",
     "output_type": "stream",
     "text": [
      "C:\\Users\\prati\\AppData\\Local\\Temp/ipykernel_12016/3845638709.py:8: DeprecationWarning: executable_path has been deprecated, please pass in a Service object\n",
      "  browser = webdriver.Chrome(CHROME_DRIVER_LOCATION, options=options)\n"
     ]
    }
   ],
   "source": [
    "# Oopen Chrome in Incognito: Popup doeesnt show in time\n",
    "options = webdriver.ChromeOptions()\n",
    "options.add_argument(\"--incognito\")\n",
    "options.binary_location =  CHROME_BIN_LOCATION\n",
    "\n",
    "\n",
    "# Create a browser instance\n",
    "browser = webdriver.Chrome(CHROME_DRIVER_LOCATION, options=options)\n",
    "\n",
    "\n",
    "\n",
    "# Load login page\n",
    "browser.get(URL)\n",
    "time.sleep(0.5)\n",
    "siteHeight = browser.execute_script(\"return document.body.scrollHeight\")\n",
    "scrollHeight = siteHeight * REVIEWS_SCROLL_HEIGHT\n",
    "browser.execute_script(\"window.scrollTo(0,{})\".format(scrollHeight))\n",
    "time.sleep(2)"
   ]
  },
  {
   "cell_type": "code",
   "execution_count": 5,
   "metadata": {},
   "outputs": [
    {
     "name": "stderr",
     "output_type": "stream",
     "text": [
      "C:\\Users\\prati\\AppData\\Local\\Temp/ipykernel_12016/3587662576.py:9: DeprecationWarning: find_elements_by_* commands are deprecated. Please use find_elements() instead\n",
      "  buttons = browser.find_elements_by_xpath('/html/body/div[2]/div/div/main/div/section[5]/div/div/div/div/div[5]/div[4]/nav/div/a')\n"
     ]
    },
    {
     "name": "stdout",
     "output_type": "stream",
     "text": [
      "0 0 8275\n",
      "1 15 8275\n",
      "2 30 8275\n",
      "3 45 8275\n",
      "4 60 8275\n",
      "5 75 8275\n"
     ]
    },
    {
     "ename": "WebDriverException",
     "evalue": "Message: chrome not reachable\n  (Session info: chrome=96.0.4664.110)\nStacktrace:\nBacktrace:\n\tOrdinal0 [0x00B56903+2517251]\n\tOrdinal0 [0x00AEF8E1+2095329]\n\tOrdinal0 [0x009F2710+1058576]\n\tOrdinal0 [0x009E76A4+1013412]\n\tOrdinal0 [0x009E7EA8+1015464]\n\tOrdinal0 [0x009E9695+1021589]\n\tOrdinal0 [0x009E3686+996998]\n\tOrdinal0 [0x009F3A60+1063520]\n\tOrdinal0 [0x00A45382+1397634]\n\tOrdinal0 [0x00A3639B+1336219]\n\tOrdinal0 [0x00A127A7+1189799]\n\tOrdinal0 [0x00A13609+1193481]\n\tGetHandleVerifier [0x00CE5904+1577972]\n\tGetHandleVerifier [0x00D90B97+2279047]\n\tGetHandleVerifier [0x00BE6D09+534521]\n\tGetHandleVerifier [0x00BE5DB9+530601]\n\tOrdinal0 [0x00AF4FF9+2117625]\n\tOrdinal0 [0x00AF98A8+2136232]\n\tOrdinal0 [0x00AF99E2+2136546]\n\tOrdinal0 [0x00B03541+2176321]\n\tBaseThreadInitThunk [0x74F9FA29+25]\n\tRtlGetAppContainerNamedObjectPath [0x77047A9E+286]\n\tRtlGetAppContainerNamedObjectPath [0x77047A6E+238]\n",
     "output_type": "error",
     "traceback": [
      "\u001b[1;31m---------------------------------------------------------------------------\u001b[0m",
      "\u001b[1;31mWebDriverException\u001b[0m                        Traceback (most recent call last)",
      "\u001b[1;32m~\\AppData\\Local\\Temp/ipykernel_12016/3587662576.py\u001b[0m in \u001b[0;36m<module>\u001b[1;34m\u001b[0m\n\u001b[0;32m     19\u001b[0m \u001b[1;33m\u001b[0m\u001b[0m\n\u001b[0;32m     20\u001b[0m \u001b[1;33m\u001b[0m\u001b[0m\n\u001b[1;32m---> 21\u001b[1;33m     \u001b[0msoup\u001b[0m \u001b[1;33m=\u001b[0m \u001b[0mBeautifulSoup\u001b[0m\u001b[1;33m(\u001b[0m\u001b[0mbrowser\u001b[0m\u001b[1;33m.\u001b[0m\u001b[0mpage_source\u001b[0m\u001b[1;33m,\u001b[0m \u001b[1;34m'html.parser'\u001b[0m\u001b[1;33m)\u001b[0m\u001b[1;33m\u001b[0m\u001b[1;33m\u001b[0m\u001b[0m\n\u001b[0m\u001b[0;32m     22\u001b[0m     \u001b[0mreviews\u001b[0m \u001b[1;33m=\u001b[0m \u001b[0msoup\u001b[0m\u001b[1;33m.\u001b[0m\u001b[0mfind_all\u001b[0m\u001b[1;33m(\u001b[0m\u001b[1;34m'div'\u001b[0m\u001b[1;33m,\u001b[0m \u001b[1;33m{\u001b[0m\u001b[1;34m'class'\u001b[0m\u001b[1;33m:\u001b[0m \u001b[1;32mlambda\u001b[0m \u001b[0me\u001b[0m\u001b[1;33m:\u001b[0m \u001b[1;34m'yotpo-review yotpo-regular-box'\u001b[0m \u001b[1;32min\u001b[0m \u001b[0me\u001b[0m \u001b[1;32mif\u001b[0m \u001b[0me\u001b[0m \u001b[1;32melse\u001b[0m \u001b[1;32mFalse\u001b[0m\u001b[1;33m}\u001b[0m\u001b[1;33m)\u001b[0m\u001b[1;33m\u001b[0m\u001b[1;33m\u001b[0m\u001b[0m\n\u001b[0;32m     23\u001b[0m     \u001b[1;32mfor\u001b[0m \u001b[0mreview\u001b[0m \u001b[1;32min\u001b[0m \u001b[0mreviews\u001b[0m\u001b[1;33m:\u001b[0m\u001b[1;33m\u001b[0m\u001b[1;33m\u001b[0m\u001b[0m\n",
      "\u001b[1;32m~\\anaconda3\\lib\\site-packages\\selenium\\webdriver\\remote\\webdriver.py\u001b[0m in \u001b[0;36mpage_source\u001b[1;34m(self)\u001b[0m\n\u001b[0;32m    924\u001b[0m                 \u001b[0mdriver\u001b[0m\u001b[1;33m.\u001b[0m\u001b[0mpage_source\u001b[0m\u001b[1;33m\u001b[0m\u001b[1;33m\u001b[0m\u001b[0m\n\u001b[0;32m    925\u001b[0m         \"\"\"\n\u001b[1;32m--> 926\u001b[1;33m         \u001b[1;32mreturn\u001b[0m \u001b[0mself\u001b[0m\u001b[1;33m.\u001b[0m\u001b[0mexecute\u001b[0m\u001b[1;33m(\u001b[0m\u001b[0mCommand\u001b[0m\u001b[1;33m.\u001b[0m\u001b[0mGET_PAGE_SOURCE\u001b[0m\u001b[1;33m)\u001b[0m\u001b[1;33m[\u001b[0m\u001b[1;34m'value'\u001b[0m\u001b[1;33m]\u001b[0m\u001b[1;33m\u001b[0m\u001b[1;33m\u001b[0m\u001b[0m\n\u001b[0m\u001b[0;32m    927\u001b[0m \u001b[1;33m\u001b[0m\u001b[0m\n\u001b[0;32m    928\u001b[0m     \u001b[1;32mdef\u001b[0m \u001b[0mclose\u001b[0m\u001b[1;33m(\u001b[0m\u001b[0mself\u001b[0m\u001b[1;33m)\u001b[0m \u001b[1;33m->\u001b[0m \u001b[1;32mNone\u001b[0m\u001b[1;33m:\u001b[0m\u001b[1;33m\u001b[0m\u001b[1;33m\u001b[0m\u001b[0m\n",
      "\u001b[1;32m~\\anaconda3\\lib\\site-packages\\selenium\\webdriver\\remote\\webdriver.py\u001b[0m in \u001b[0;36mexecute\u001b[1;34m(self, driver_command, params)\u001b[0m\n\u001b[0;32m    422\u001b[0m         \u001b[0mresponse\u001b[0m \u001b[1;33m=\u001b[0m \u001b[0mself\u001b[0m\u001b[1;33m.\u001b[0m\u001b[0mcommand_executor\u001b[0m\u001b[1;33m.\u001b[0m\u001b[0mexecute\u001b[0m\u001b[1;33m(\u001b[0m\u001b[0mdriver_command\u001b[0m\u001b[1;33m,\u001b[0m \u001b[0mparams\u001b[0m\u001b[1;33m)\u001b[0m\u001b[1;33m\u001b[0m\u001b[1;33m\u001b[0m\u001b[0m\n\u001b[0;32m    423\u001b[0m         \u001b[1;32mif\u001b[0m \u001b[0mresponse\u001b[0m\u001b[1;33m:\u001b[0m\u001b[1;33m\u001b[0m\u001b[1;33m\u001b[0m\u001b[0m\n\u001b[1;32m--> 424\u001b[1;33m             \u001b[0mself\u001b[0m\u001b[1;33m.\u001b[0m\u001b[0merror_handler\u001b[0m\u001b[1;33m.\u001b[0m\u001b[0mcheck_response\u001b[0m\u001b[1;33m(\u001b[0m\u001b[0mresponse\u001b[0m\u001b[1;33m)\u001b[0m\u001b[1;33m\u001b[0m\u001b[1;33m\u001b[0m\u001b[0m\n\u001b[0m\u001b[0;32m    425\u001b[0m             response['value'] = self._unwrap_value(\n\u001b[0;32m    426\u001b[0m                 response.get('value', None))\n",
      "\u001b[1;32m~\\anaconda3\\lib\\site-packages\\selenium\\webdriver\\remote\\errorhandler.py\u001b[0m in \u001b[0;36mcheck_response\u001b[1;34m(self, response)\u001b[0m\n\u001b[0;32m    245\u001b[0m                 \u001b[0malert_text\u001b[0m \u001b[1;33m=\u001b[0m \u001b[0mvalue\u001b[0m\u001b[1;33m[\u001b[0m\u001b[1;34m'alert'\u001b[0m\u001b[1;33m]\u001b[0m\u001b[1;33m.\u001b[0m\u001b[0mget\u001b[0m\u001b[1;33m(\u001b[0m\u001b[1;34m'text'\u001b[0m\u001b[1;33m)\u001b[0m\u001b[1;33m\u001b[0m\u001b[1;33m\u001b[0m\u001b[0m\n\u001b[0;32m    246\u001b[0m             \u001b[1;32mraise\u001b[0m \u001b[0mexception_class\u001b[0m\u001b[1;33m(\u001b[0m\u001b[0mmessage\u001b[0m\u001b[1;33m,\u001b[0m \u001b[0mscreen\u001b[0m\u001b[1;33m,\u001b[0m \u001b[0mstacktrace\u001b[0m\u001b[1;33m,\u001b[0m \u001b[0malert_text\u001b[0m\u001b[1;33m)\u001b[0m  \u001b[1;31m# type: ignore[call-arg]  # mypy is not smart enough here\u001b[0m\u001b[1;33m\u001b[0m\u001b[1;33m\u001b[0m\u001b[0m\n\u001b[1;32m--> 247\u001b[1;33m         \u001b[1;32mraise\u001b[0m \u001b[0mexception_class\u001b[0m\u001b[1;33m(\u001b[0m\u001b[0mmessage\u001b[0m\u001b[1;33m,\u001b[0m \u001b[0mscreen\u001b[0m\u001b[1;33m,\u001b[0m \u001b[0mstacktrace\u001b[0m\u001b[1;33m)\u001b[0m\u001b[1;33m\u001b[0m\u001b[1;33m\u001b[0m\u001b[0m\n\u001b[0m\u001b[0;32m    248\u001b[0m \u001b[1;33m\u001b[0m\u001b[0m\n\u001b[0;32m    249\u001b[0m     \u001b[1;32mdef\u001b[0m \u001b[0m_value_or_default\u001b[0m\u001b[1;33m(\u001b[0m\u001b[0mself\u001b[0m\u001b[1;33m,\u001b[0m \u001b[0mobj\u001b[0m\u001b[1;33m:\u001b[0m \u001b[0mMapping\u001b[0m\u001b[1;33m[\u001b[0m\u001b[0m_KT\u001b[0m\u001b[1;33m,\u001b[0m \u001b[0m_VT\u001b[0m\u001b[1;33m]\u001b[0m\u001b[1;33m,\u001b[0m \u001b[0mkey\u001b[0m\u001b[1;33m:\u001b[0m \u001b[0m_KT\u001b[0m\u001b[1;33m,\u001b[0m \u001b[0mdefault\u001b[0m\u001b[1;33m:\u001b[0m \u001b[0m_VT\u001b[0m\u001b[1;33m)\u001b[0m \u001b[1;33m->\u001b[0m \u001b[0m_VT\u001b[0m\u001b[1;33m:\u001b[0m\u001b[1;33m\u001b[0m\u001b[1;33m\u001b[0m\u001b[0m\n",
      "\u001b[1;31mWebDriverException\u001b[0m: Message: chrome not reachable\n  (Session info: chrome=96.0.4664.110)\nStacktrace:\nBacktrace:\n\tOrdinal0 [0x00B56903+2517251]\n\tOrdinal0 [0x00AEF8E1+2095329]\n\tOrdinal0 [0x009F2710+1058576]\n\tOrdinal0 [0x009E76A4+1013412]\n\tOrdinal0 [0x009E7EA8+1015464]\n\tOrdinal0 [0x009E9695+1021589]\n\tOrdinal0 [0x009E3686+996998]\n\tOrdinal0 [0x009F3A60+1063520]\n\tOrdinal0 [0x00A45382+1397634]\n\tOrdinal0 [0x00A3639B+1336219]\n\tOrdinal0 [0x00A127A7+1189799]\n\tOrdinal0 [0x00A13609+1193481]\n\tGetHandleVerifier [0x00CE5904+1577972]\n\tGetHandleVerifier [0x00D90B97+2279047]\n\tGetHandleVerifier [0x00BE6D09+534521]\n\tGetHandleVerifier [0x00BE5DB9+530601]\n\tOrdinal0 [0x00AF4FF9+2117625]\n\tOrdinal0 [0x00AF98A8+2136232]\n\tOrdinal0 [0x00AF99E2+2136546]\n\tOrdinal0 [0x00B03541+2176321]\n\tBaseThreadInitThunk [0x74F9FA29+25]\n\tRtlGetAppContainerNamedObjectPath [0x77047A9E+286]\n\tRtlGetAppContainerNamedObjectPath [0x77047A6E+238]\n"
     ]
    }
   ],
   "source": [
    "soup = BeautifulSoup(browser.page_source, 'html.parser')\n",
    "maxReviews = soup.find('span', {'class':'reviews-qa-label font-color-gray'}).text.split()[0]\n",
    "count_page = 0\n",
    "count_reviews = 0\n",
    "\n",
    "while count_reviews < int(maxReviews):\n",
    "    list_reviews = []\n",
    "\n",
    "    buttons = browser.find_elements_by_xpath('/html/body/div[2]/div/div/main/div/section[5]/div/div/div/div/div[5]/div[4]/nav/div/a')\n",
    "    print(count_page, count_reviews, maxReviews)\n",
    "    for button in buttons:\n",
    "        if count_page == 0:\n",
    "            break\n",
    "        if button.text!=\"\":\n",
    "            if int(button.text) == count_page + 1:\n",
    "                button.click()\n",
    "                break\n",
    "    time.sleep(2)\n",
    "\n",
    "    \n",
    "    soup = BeautifulSoup(browser.page_source, 'html.parser')\n",
    "    reviews = soup.find_all('div', {'class': lambda e: 'yotpo-review yotpo-regular-box' in e if e else False})\n",
    "    for review in reviews:\n",
    "        name = review.find('span', {'class': 'y-label yotpo-user-name yotpo-font-bold pull-left'}).text\n",
    "        rating = review.find('span', {'class': 'sr-only'}).text\n",
    "        dt = review.find('span', {'class': 'y-label yotpo-review-date'}).text\n",
    "        heading = review.find('div', {'class': 'content-title yotpo-font-bold'}).text\n",
    "        text_shown = review.find('div', {'class': 'content-review'}).find(text=True, recursive=False)\n",
    "        text_hidden_major = review.find('p', {'class': 'rest-content-collapsed'})\n",
    "        if text_hidden_major is None:\n",
    "            text_hidden = ''\n",
    "        else:\n",
    "            text_hidden = text_hidden_major.find(text=True, recursive=False)\n",
    "        text = text_shown + text_hidden\n",
    "\n",
    "        element = [name, rating, dt, heading, text]\n",
    "        list_reviews.append(element)\n",
    "\n",
    "    with open(DATA_FILE_LOCATION, 'a', encoding=\"utf-8\", newline='') as f:\n",
    "        writer = csv.writer(f)\n",
    "        writer.writerows(list_reviews)\n",
    "    \n",
    "    count_reviews = count_reviews + len(list_reviews)\n",
    "    count_page = count_page + 1\n",
    "\n"
   ]
  }
 ],
 "metadata": {
  "interpreter": {
   "hash": "1baa965d5efe3ac65b79dfc60c0d706280b1da80fedb7760faf2759126c4f253"
  },
  "kernelspec": {
   "display_name": "Python 3.8.2 64-bit",
   "language": "python",
   "name": "python3"
  },
  "language_info": {
   "codemirror_mode": {
    "name": "ipython",
    "version": 3
   },
   "file_extension": ".py",
   "mimetype": "text/x-python",
   "name": "python",
   "nbconvert_exporter": "python",
   "pygments_lexer": "ipython3",
   "version": "3.8.8"
  },
  "orig_nbformat": 4
 },
 "nbformat": 4,
 "nbformat_minor": 2
}
